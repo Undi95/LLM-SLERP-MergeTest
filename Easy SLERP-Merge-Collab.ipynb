{
  "nbformat": 4,
  "nbformat_minor": 0,
  "metadata": {
    "colab": {
      "provenance": [],
      "machine_shape": "hm",
      "gpuType": "A100"
    },
    "kernelspec": {
      "name": "python3",
      "display_name": "Python 3"
    },
    "language_info": {
      "name": "python"
    },
    "accelerator": "GPU"
  },
  "cells": [
    {
      "cell_type": "code",
      "execution_count": null,
      "metadata": {
        "id": "u2DW3fDC7m5e"
      },
      "outputs": [],
      "source": [
        "# Install reqs\n",
        "%cd /content/\n",
        "!pip install -U transformers peft accelerate"
      ]
    },
    {
      "cell_type": "code",
      "source": [
        "# Login to hub (optionnal)\n",
        "from huggingface_hub import notebook_login\n",
        "notebook_login()"
      ],
      "metadata": {
        "id": "sJJVyz6_7xZA"
      },
      "execution_count": null,
      "outputs": []
    },
    {
      "cell_type": "code",
      "source": [
        "!git clone https://github.com/Undi95/LLM-SLERP-MergeTest.git\n",
        "%cd LLM-SLERP-MergeTest"
      ],
      "metadata": {
        "id": "Ugqlcp7F7_JC"
      },
      "execution_count": null,
      "outputs": []
    },
    {
      "cell_type": "code",
      "source": [
        "!pip install -r requirements.txt"
      ],
      "metadata": {
        "id": "klYU1GXHAysZ"
      },
      "execution_count": null,
      "outputs": []
    },
    {
      "cell_type": "code",
      "source": [
        "# Full repo download model 1\n",
        "\n",
        "# Select model\n",
        "repo_id = \"The-Face-Of-Goonery/Huginn-13b-v1.2\"\n",
        "\n",
        "# Select branch\n",
        "revision=\"main\"\n",
        "\n",
        "# Download model\n",
        "from huggingface_hub import snapshot_download\n",
        "snapshot_download(repo_id=repo_id, revision=revision, local_dir=f\"./model1\")\n",
        "\n",
        "print(f\"Model dir: './model1'\")"
      ],
      "metadata": {
        "id": "HhF9TSdZ74r4"
      },
      "execution_count": null,
      "outputs": []
    },
    {
      "cell_type": "code",
      "source": [
        "# Full repo download model 2\n",
        "\n",
        "# Select model\n",
        "repo_id = \"Undi95/ReML-L2-13B\"\n",
        "\n",
        "# Select branch\n",
        "revision=\"main\"\n",
        "\n",
        "# Download model\n",
        "from huggingface_hub import snapshot_download\n",
        "snapshot_download(repo_id=repo_id, revision=revision, local_dir=f\"./model2\")\n",
        "\n",
        "print(f\"Model dir: './model2'\")"
      ],
      "metadata": {
        "id": "z5uLO4qN76Bl"
      },
      "execution_count": null,
      "outputs": []
    },
    {
      "cell_type": "code",
      "source": [
        "## !python slerpmergelm.py [model_1 dir] [model_2 dir] [output dir] [weights]\n",
        "!python slerpmergelm.py \"model1\" \"model2\" \"result\" \"[0.8, 0.2, 0.8]\""
      ],
      "metadata": {
        "id": "_97vBZfw8KG4"
      },
      "execution_count": null,
      "outputs": []
    },
    {
      "cell_type": "code",
      "source": [
        "# Set variables\n",
        "username = \"Undi95\"\n",
        "base_model_name = \"ReMM-SLERP-L2-13B\"\n",
        "\n",
        "# Push to hub\n",
        "from huggingface_hub import create_repo, HfApi\n",
        "api = HfApi()\n",
        "\n",
        "create_repo(repo_id = f\"{username}/{base_model_name}\", private = True, repo_type = \"model\", exist_ok = True)\n",
        "api.upload_folder(\n",
        "    folder_path=\"result\",\n",
        "    repo_id=f\"{username}/{base_model_name}\"\n",
        ")"
      ],
      "metadata": {
        "id": "TUDVr-ZZ_f8U"
      },
      "execution_count": null,
      "outputs": []
    }
  ]
}
